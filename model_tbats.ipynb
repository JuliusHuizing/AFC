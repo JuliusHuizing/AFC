{
 "cells": [
  {
   "cell_type": "code",
   "execution_count": 1,
   "metadata": {},
   "outputs": [
    {
     "name": "stderr",
     "output_type": "stream",
     "text": [
      "/Users/julius/repos/AFC/.venv/lib/python3.12/site-packages/tqdm/auto.py:21: TqdmWarning: IProgress not found. Please update jupyter and ipywidgets. See https://ipywidgets.readthedocs.io/en/stable/user_install.html\n",
      "  from .autonotebook import tqdm as notebook_tqdm\n",
      "Importing plotly failed. Interactive plots will not work.\n"
     ]
    }
   ],
   "source": [
    "from utils import *\n",
    "from model_prophet import *\n",
    "from tbats import TBATS\n",
    "import pandas as pd\n",
    "import matplotlib.pyplot as plt\n",
    "import numpy as np\n",
    "from prophet import Prophet\n",
    "from sklearn.metrics import mean_squared_error\n",
    "from statsmodels.tsa.seasonal import seasonal_decompose\n",
    "from scipy.stats import pearsonr\n",
    "import statsmodels.api as sm\n",
    "from pmdarima import auto_arima\n",
    "from statsmodels.tsa.statespace import exponential_smoothing\n",
    "from statsmodels.tsa.seasonal import MSTL\n",
    "# from statsmodels.tsa.api import STLForeca"
   ]
  },
  {
   "cell_type": "code",
   "execution_count": 2,
   "metadata": {},
   "outputs": [],
   "source": [
    "data = Data()"
   ]
  },
  {
   "cell_type": "code",
   "execution_count": 3,
   "metadata": {},
   "outputs": [],
   "source": [
    "# TBATS model on aggregated sales data\n",
    "\n",
    "tbats_df = pd.DataFrame({'ds': data.daily_sales.index, 'y': data.daily_sales.values})\n",
    "\n",
    "tbats_model = TBATS(seasonal_periods=(7, 365))\n",
    "tbats_fit = tbats_model.fit(tbats_df['y'])\n",
    "tbats_forecast = tbats_fit.forecast(steps=28)\n"
   ]
  },
  {
   "cell_type": "code",
   "execution_count": 4,
   "metadata": {},
   "outputs": [],
   "source": [
    "import pickle as pkl\n",
    "from datetime import datetime\n",
    "# Get the current time in a formatted string\n",
    "current_time = datetime.now().strftime(\"%Y%m%d%H%M%S\")\n",
    "\n",
    "# Create a pickle file with the current time suffix\n",
    "filename = f\"tbats_{current_time}\"\n",
    "# export prohhet forecast to pickle\n",
    "with open(f'forecast_pickles/{filename}.pkl', 'wb') as f:\n",
    "    pkl.dump(tbats_forecast, f)"
   ]
  },
  {
   "cell_type": "code",
   "execution_count": 5,
   "metadata": {},
   "outputs": [
    {
     "name": "stdout",
     "output_type": "stream",
     "text": [
      "0.032815517598434464\n",
      "None\n",
      "[1402.99776323  227.02188812   32.03576335  -15.47636037  152.07750758\n",
      "   83.99273378   16.43298777 -161.8464263    44.65805918   35.48924498\n",
      "   44.90893971    0.            0.            0.            0.\n",
      "    0.            0.        ]\n",
      "False\n",
      "[3 2]\n"
     ]
    }
   ],
   "source": [
    "# Reading model parameters\n",
    "print(tbats_fit.params.alpha)\n",
    "print(tbats_fit.params.beta)\n",
    "print(tbats_fit.params.x0)\n",
    "print(tbats_fit.params.components.use_box_cox)\n",
    "print(tbats_fit.params.components.seasonal_harmonics)"
   ]
  },
  {
   "cell_type": "code",
   "execution_count": null,
   "metadata": {},
   "outputs": [],
   "source": []
  },
  {
   "cell_type": "code",
   "execution_count": null,
   "metadata": {},
   "outputs": [],
   "source": []
  },
  {
   "cell_type": "code",
   "execution_count": null,
   "metadata": {},
   "outputs": [],
   "source": []
  },
  {
   "cell_type": "code",
   "execution_count": null,
   "metadata": {},
   "outputs": [],
   "source": [
    "# Get mean distribution of sales for each product\n",
    "\n",
    "data.merged_data['total_sales'] = data.merged_data.groupby('day')['sales'].transform('sum')\n",
    "data.merged_data['percentage_sales'] = (data.merged_data['sales'] / data.merged_data['total_sales'])\n",
    "mean_percentage_by_product = data.merged_data.groupby('id')['percentage_sales'].mean().reset_index()\n",
    "print(mean_percentage_by_product)"
   ]
  },
  {
   "cell_type": "code",
   "execution_count": null,
   "metadata": {},
   "outputs": [],
   "source": [
    "estimated_sales = (mean_percentage_by_product['percentage_sales'][:, np.newaxis] * tbats_forecast).round()\n",
    "\n",
    "#print(sales_test.iloc[:, 1:])\n",
    "\n",
    "# Calculate RMSE\n",
    "rmse = np.sqrt(mean_squared_error(data.sales_test.iloc[:, 1:], estimated_sales))\n",
    "\n",
    "print(f'RMSE: {rmse}')"
   ]
  }
 ],
 "metadata": {
  "kernelspec": {
   "display_name": ".venv",
   "language": "python",
   "name": "python3"
  },
  "language_info": {
   "codemirror_mode": {
    "name": "ipython",
    "version": 3
   },
   "file_extension": ".py",
   "mimetype": "text/x-python",
   "name": "python",
   "nbconvert_exporter": "python",
   "pygments_lexer": "ipython3",
   "version": "3.12.0"
  }
 },
 "nbformat": 4,
 "nbformat_minor": 2
}
