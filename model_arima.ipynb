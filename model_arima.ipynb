{
 "cells": [
  {
   "cell_type": "code",
   "execution_count": 1,
   "metadata": {},
   "outputs": [
    {
     "name": "stderr",
     "output_type": "stream",
     "text": [
      "/Users/julius/repos/AFC/.venv/lib/python3.12/site-packages/tqdm/auto.py:21: TqdmWarning: IProgress not found. Please update jupyter and ipywidgets. See https://ipywidgets.readthedocs.io/en/stable/user_install.html\n",
      "  from .autonotebook import tqdm as notebook_tqdm\n",
      "Importing plotly failed. Interactive plots will not work.\n"
     ]
    }
   ],
   "source": [
    "from utils import *\n",
    "from tbats import TBATS\n",
    "import pandas as pd\n",
    "import matplotlib.pyplot as plt\n",
    "import numpy as np\n",
    "from prophet import Prophet\n",
    "from sklearn.metrics import mean_squared_error\n",
    "from statsmodels.tsa.seasonal import seasonal_decompose\n",
    "from scipy.stats import pearsonr\n",
    "import statsmodels.api as sm\n",
    "from pmdarima import auto_arima\n",
    "from statsmodels.tsa.statespace import exponential_smoothing\n",
    "from statsmodels.tsa.seasonal import MSTL\n",
    "# from statsmodels.tsa.api import STLForeca"
   ]
  },
  {
   "cell_type": "code",
   "execution_count": 2,
   "metadata": {},
   "outputs": [],
   "source": [
    "data = Data()"
   ]
  },
  {
   "cell_type": "code",
   "execution_count": 3,
   "metadata": {},
   "outputs": [],
   "source": [
    "#TODO: Fix this notebook (see lower parts of AFCS.ipynb) and factorize code to keep notebook clean (extract model in separate file)"
   ]
  },
  {
   "cell_type": "code",
   "execution_count": 6,
   "metadata": {},
   "outputs": [
    {
     "name": "stdout",
     "output_type": "stream",
     "text": [
      "Performing stepwise search to minimize aic\n",
      " ARIMA(2,1,2)(0,0,0)[0] intercept   : AIC=inf, Time=0.75 sec\n",
      " ARIMA(0,1,0)(0,0,0)[0] intercept   : AIC=27541.486, Time=0.02 sec\n",
      " ARIMA(1,1,0)(0,0,0)[0] intercept   : AIC=27502.601, Time=0.03 sec\n",
      " ARIMA(0,1,1)(0,0,0)[0] intercept   : AIC=27295.539, Time=0.13 sec\n",
      " ARIMA(0,1,0)(0,0,0)[0]             : AIC=27539.486, Time=0.01 sec\n",
      " ARIMA(1,1,1)(0,0,0)[0] intercept   : AIC=26962.870, Time=0.29 sec\n",
      " ARIMA(2,1,1)(0,0,0)[0] intercept   : AIC=26878.704, Time=0.42 sec\n",
      " ARIMA(2,1,0)(0,0,0)[0] intercept   : AIC=27468.923, Time=0.05 sec\n",
      " ARIMA(3,1,1)(0,0,0)[0] intercept   : AIC=26725.448, Time=0.78 sec\n",
      " ARIMA(3,1,0)(0,0,0)[0] intercept   : AIC=27284.444, Time=0.07 sec\n",
      " ARIMA(4,1,1)(0,0,0)[0] intercept   : AIC=26660.432, Time=0.91 sec\n",
      " ARIMA(4,1,0)(0,0,0)[0] intercept   : AIC=27111.390, Time=0.29 sec\n",
      " ARIMA(5,1,1)(0,0,0)[0] intercept   : AIC=26436.980, Time=0.88 sec\n",
      " ARIMA(5,1,0)(0,0,0)[0] intercept   : AIC=26610.008, Time=0.38 sec\n",
      " ARIMA(5,1,2)(0,0,0)[0] intercept   : AIC=26237.274, Time=1.42 sec\n",
      " ARIMA(4,1,2)(0,0,0)[0] intercept   : AIC=inf, Time=1.18 sec\n",
      " ARIMA(5,1,3)(0,0,0)[0] intercept   : AIC=26216.431, Time=1.73 sec\n",
      " ARIMA(4,1,3)(0,0,0)[0] intercept   : AIC=26205.898, Time=1.34 sec\n",
      " ARIMA(3,1,3)(0,0,0)[0] intercept   : AIC=inf, Time=1.27 sec\n",
      " ARIMA(4,1,4)(0,0,0)[0] intercept   : AIC=inf, Time=1.67 sec\n",
      " ARIMA(3,1,2)(0,0,0)[0] intercept   : AIC=26585.584, Time=1.08 sec\n",
      " ARIMA(3,1,4)(0,0,0)[0] intercept   : AIC=inf, Time=1.53 sec\n",
      " ARIMA(5,1,4)(0,0,0)[0] intercept   : AIC=inf, Time=1.71 sec\n",
      " ARIMA(4,1,3)(0,0,0)[0]             : AIC=inf, Time=0.89 sec\n",
      "\n",
      "Best model:  ARIMA(4,1,3)(0,0,0)[0] intercept\n",
      "Total fit time: 18.822 seconds\n"
     ]
    }
   ],
   "source": [
    "arima_df = pd.DataFrame({'ds': data.daily_sales.index, 'y': data.daily_sales.values})\n",
    "\n",
    "autoarima_model = auto_arima(arima_df['y'], seasonal=True, trace=True)\n",
    "autoarima_model.summary()\n",
    "autoarima_forecast = autoarima_model.predict(n_periods=28)"
   ]
  },
  {
   "cell_type": "code",
   "execution_count": 10,
   "metadata": {},
   "outputs": [],
   "source": [
    "import pickle as pkl\n",
    "from datetime import datetime\n",
    "# Get the current time in a formatted string\n",
    "current_time = datetime.now().strftime(\"%Y%m%d%H%M%S\")\n",
    "\n",
    "# Create a pickle file with the current time suffix\n",
    "filename = f\"autoarima_{current_time}\"\n",
    "# export prohhet forecast to pickle\n",
    "with open(f'forecast_pickles/{filename}.pkl', 'wb') as f:\n",
    "    pkl.dump(autoarima_forecast, f)"
   ]
  },
  {
   "cell_type": "code",
   "execution_count": null,
   "metadata": {},
   "outputs": [],
   "source": []
  },
  {
   "cell_type": "code",
   "execution_count": null,
   "metadata": {},
   "outputs": [],
   "source": []
  },
  {
   "cell_type": "code",
   "execution_count": null,
   "metadata": {},
   "outputs": [],
   "source": []
  },
  {
   "cell_type": "code",
   "execution_count": null,
   "metadata": {},
   "outputs": [],
   "source": []
  },
  {
   "cell_type": "code",
   "execution_count": null,
   "metadata": {},
   "outputs": [],
   "source": []
  },
  {
   "cell_type": "code",
   "execution_count": null,
   "metadata": {},
   "outputs": [],
   "source": []
  }
 ],
 "metadata": {
  "kernelspec": {
   "display_name": ".venv",
   "language": "python",
   "name": "python3"
  },
  "language_info": {
   "codemirror_mode": {
    "name": "ipython",
    "version": 3
   },
   "file_extension": ".py",
   "mimetype": "text/x-python",
   "name": "python",
   "nbconvert_exporter": "python",
   "pygments_lexer": "ipython3",
   "version": "3.12.0"
  }
 },
 "nbformat": 4,
 "nbformat_minor": 2
}
