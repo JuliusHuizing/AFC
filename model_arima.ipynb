{
 "cells": [
  {
   "cell_type": "code",
   "execution_count": null,
   "metadata": {},
   "outputs": [],
   "source": [
    "from utils import *\n",
    "from model_prophet import *\n",
    "from tbats import TBATS\n",
    "import pandas as pd\n",
    "import matplotlib.pyplot as plt\n",
    "import numpy as np\n",
    "from prophet import Prophet\n",
    "from sklearn.metrics import mean_squared_error\n",
    "from statsmodels.tsa.seasonal import seasonal_decompose\n",
    "from scipy.stats import pearsonr\n",
    "import statsmodels.api as sm\n",
    "from pmdarima import auto_arima\n",
    "from statsmodels.tsa.statespace import exponential_smoothing\n",
    "from statsmodels.tsa.seasonal import MSTL\n",
    "from statsmodels.tsa.api import STLForeca"
   ]
  },
  {
   "cell_type": "code",
   "execution_count": null,
   "metadata": {},
   "outputs": [],
   "source": [
    "data = Data()"
   ]
  },
  {
   "cell_type": "code",
   "execution_count": null,
   "metadata": {},
   "outputs": [],
   "source": [
    "arima_df = pd.DataFrame({'ds': data.daily_sales.index, 'y': data.daily_sales.values})\n",
    "\n",
    "autoarima_model = auto_arima(arima_df['y'], seasonal=True, trace=True)\n",
    "autoarima_model.summary()\n",
    "autoarima_forecast = autoarima_model.predict(n_periods=28)"
   ]
  },
  {
   "cell_type": "code",
   "execution_count": null,
   "metadata": {},
   "outputs": [],
   "source": [
    "plt.figure(figsize=(12, 6))\n",
    "plt.plot(data.daily_sales_test.index, data.daily_sales_test.values, label='Aggregated Sales (True Values)', color='blue')\n",
    "plt.plot(data.daily_sales_test.index, forecast['yhat'][1913:], label='Aggregated Sales (Prophet)', color='green')\n",
    "plt.plot(data.daily_sales_test.index, autoarima_forecast.values, label='Aggregated Sales (ARIMA)', color='red')\n",
    "plt.title('Aggregated Sales over Time')\n",
    "plt.xlabel('Date')\n",
    "plt.ylabel('Total Sales')\n",
    "plt.grid(True)\n",
    "plt.legend()\n",
    "plt.show()"
   ]
  },
  {
   "cell_type": "code",
   "execution_count": null,
   "metadata": {},
   "outputs": [],
   "source": [
    "# TBATS model on aggregated sales data\n",
    "\n",
    "tbats_df = pd.DataFrame({'ds': data.daily_sales.index, 'y': data.daily_sales.values})\n",
    "\n",
    "tbats_model = TBATS(seasonal_periods=(7, 365))\n",
    "tbats_fit = tbats_model.fit(tbats_df['y'])\n",
    "tbats_forecast = tbats_fit.forecast(steps=28)\n"
   ]
  },
  {
   "cell_type": "code",
   "execution_count": null,
   "metadata": {},
   "outputs": [],
   "source": [
    "# Reading model parameters\n",
    "print(tbats_fit.params.alpha)\n",
    "print(tbats_fit.params.beta)\n",
    "print(tbats_fit.params.x0)\n",
    "print(tbats_fit.params.components.use_box_cox)\n",
    "print(tbats_fit.params.components.seasonal_harmonics)"
   ]
  },
  {
   "cell_type": "code",
   "execution_count": null,
   "metadata": {},
   "outputs": [],
   "source": [
    "plt.figure(figsize=(12, 6))\n",
    "plt.plot(data.daily_sales_test.index, data.daily_sales_test.values, label='Aggregated Sales (True Values)', color='blue')\n",
    "plt.plot(data.daily_sales_test.index, forecast['yhat'][1913:], label='Aggregated Sales (Prophet)', color='green')\n",
    "plt.plot(data.daily_sales_test.index, autoarima_forecast.values, label='Aggregated Sales (ARIMA)', color='red')\n",
    "plt.plot(data.daily_sales_test.index, tbats_forecast, label='Aggregated Sales (TBATS)', color='yellow')\n",
    "plt.title('Aggregated Sales over Time')\n",
    "plt.xlabel('Date')\n",
    "plt.ylabel('Total Sales')\n",
    "plt.grid(True)\n",
    "plt.legend()\n",
    "plt.show()"
   ]
  },
  {
   "cell_type": "code",
   "execution_count": null,
   "metadata": {},
   "outputs": [],
   "source": [
    "# Get mean distribution of sales for each product\n",
    "\n",
    "data.merged_data['total_sales'] = data.merged_data.groupby('day')['sales'].transform('sum')\n",
    "data.merged_data['percentage_sales'] = (data.merged_data['sales'] / data.merged_data['total_sales'])\n",
    "mean_percentage_by_product = data.merged_data.groupby('id')['percentage_sales'].mean().reset_index()\n",
    "print(mean_percentage_by_product)"
   ]
  },
  {
   "cell_type": "code",
   "execution_count": null,
   "metadata": {},
   "outputs": [],
   "source": [
    "estimated_sales = (mean_percentage_by_product['percentage_sales'][:, np.newaxis] * tbats_forecast).round()\n",
    "\n",
    "#print(sales_test.iloc[:, 1:])\n",
    "\n",
    "# Calculate RMSE\n",
    "rmse = np.sqrt(mean_squared_error(data.sales_test.iloc[:, 1:], estimated_sales))\n",
    "\n",
    "print(f'RMSE: {rmse}')"
   ]
  }
 ],
 "metadata": {
  "language_info": {
   "name": "python"
  }
 },
 "nbformat": 4,
 "nbformat_minor": 2
}
