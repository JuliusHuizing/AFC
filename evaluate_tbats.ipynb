{
 "cells": [
  {
   "cell_type": "code",
   "execution_count": 1,
   "metadata": {},
   "outputs": [
    {
     "name": "stderr",
     "output_type": "stream",
     "text": [
      "/Users/julius/repos/AFC/.venv/lib/python3.12/site-packages/tqdm/auto.py:21: TqdmWarning: IProgress not found. Please update jupyter and ipywidgets. See https://ipywidgets.readthedocs.io/en/stable/user_install.html\n",
      "  from .autonotebook import tqdm as notebook_tqdm\n",
      "Importing plotly failed. Interactive plots will not work.\n"
     ]
    }
   ],
   "source": [
    "import pickle as pkl\n",
    "from utils import *\n",
    "from utils import *\n",
    "from tbats import TBATS\n",
    "import pandas as pd\n",
    "import matplotlib.pyplot as plt\n",
    "import numpy as np\n",
    "from prophet import Prophet\n",
    "from sklearn.metrics import mean_squared_error\n",
    "from statsmodels.tsa.seasonal import seasonal_decompose\n",
    "from scipy.stats import pearsonr\n",
    "import statsmodels.api as sm\n",
    "from pmdarima import auto_arima\n",
    "from statsmodels.tsa.statespace import exponential_smoothing\n",
    "from statsmodels.tsa.seasonal import MSTL\n",
    "# from statsmodels.tsa.api import STLForeca"
   ]
  },
  {
   "cell_type": "code",
   "execution_count": 2,
   "metadata": {},
   "outputs": [],
   "source": [
    "data = Data()"
   ]
  },
  {
   "cell_type": "code",
   "execution_count": 7,
   "metadata": {},
   "outputs": [],
   "source": [
    "tbats_fit = pkl.load(open('fits_pickles/tbats_fit.pkl', 'rb'))\n",
    "tbats_forecast = pkl.load(open('forecast_pickles/tbats_forecast.pkl', 'rb'))"
   ]
  },
  {
   "cell_type": "code",
   "execution_count": 8,
   "metadata": {},
   "outputs": [
    {
     "data": {
      "text/plain": [
       "'Use Box-Cox: False\\nUse trend: False\\nUse damped trend: False\\nSeasonal periods: [  7. 365.]\\nSeasonal harmonics [3 2]\\nARMA errors (p, q): (2, 4)\\nSmoothing (Alpha): 0.032816\\nSeasonal Parameters (Gamma): [-2.81449412e-06  6.27251353e-06 -9.87982663e-06  7.62772917e-06]\\nAR coefficients [-9.87982663e-06  7.62772917e-06]\\nMA coefficients [0.2523185  0.19599506 0.05415473 0.07989568]\\nSeed vector [1402.99776323  227.02188812   32.03576335  -15.47636037  152.07750758\\n   83.99273378   16.43298777 -161.8464263    44.65805918   35.48924498\\n   44.90893971    0.            0.            0.            0.\\n    0.            0.        ]\\n\\nAIC 34921.701900'"
      ]
     },
     "execution_count": 8,
     "metadata": {},
     "output_type": "execute_result"
    }
   ],
   "source": [
    "tbats_fit.summary()"
   ]
  },
  {
   "cell_type": "code",
   "execution_count": 9,
   "metadata": {},
   "outputs": [
    {
     "name": "stdout",
     "output_type": "stream",
     "text": [
      "                              id  percentage_sales\n",
      "0    FOODS_3_001_TX_3_validation          0.000222\n",
      "1    FOODS_3_002_TX_3_validation          0.000451\n",
      "2    FOODS_3_003_TX_3_validation          0.000071\n",
      "3    FOODS_3_004_TX_3_validation          0.000052\n",
      "4    FOODS_3_005_TX_3_validation          0.000493\n",
      "..                           ...               ...\n",
      "818  FOODS_3_823_TX_3_validation          0.000134\n",
      "819  FOODS_3_824_TX_3_validation          0.000147\n",
      "820  FOODS_3_825_TX_3_validation          0.000394\n",
      "821  FOODS_3_826_TX_3_validation          0.000371\n",
      "822  FOODS_3_827_TX_3_validation          0.000219\n",
      "\n",
      "[823 rows x 2 columns]\n"
     ]
    }
   ],
   "source": [
    "# Get mean distribution of sales for each product\n",
    "\n",
    "data.merged_data['total_sales'] = data.merged_data.groupby('day')['sales'].transform('sum')\n",
    "data.merged_data['percentage_sales'] = (data.merged_data['sales'] / data.merged_data['total_sales'])\n",
    "mean_percentage_by_product = data.merged_data.groupby('id')['percentage_sales'].mean().reset_index()\n",
    "print(mean_percentage_by_product)"
   ]
  },
  {
   "cell_type": "code",
   "execution_count": 10,
   "metadata": {},
   "outputs": [
    {
     "name": "stdout",
     "output_type": "stream",
     "text": [
      "RMSE: 3.5674739431439835\n"
     ]
    }
   ],
   "source": [
    "estimated_sales = (mean_percentage_by_product['percentage_sales'].to_numpy()[:, np.newaxis] * tbats_forecast).round()\n",
    "\n",
    "#print(sales_test.iloc[:, 1:])\n",
    "\n",
    "# Calculate RMSE\n",
    "rmse = np.sqrt(mean_squared_error(data.sales_test.iloc[:, 1:], estimated_sales))\n",
    "\n",
    "print(f'RMSE: {rmse}')"
   ]
  },
  {
   "cell_type": "code",
   "execution_count": null,
   "metadata": {},
   "outputs": [],
   "source": []
  },
  {
   "cell_type": "code",
   "execution_count": null,
   "metadata": {},
   "outputs": [],
   "source": []
  },
  {
   "cell_type": "code",
   "execution_count": null,
   "metadata": {},
   "outputs": [],
   "source": []
  }
 ],
 "metadata": {
  "kernelspec": {
   "display_name": ".venv",
   "language": "python",
   "name": "python3"
  },
  "language_info": {
   "codemirror_mode": {
    "name": "ipython",
    "version": 3
   },
   "file_extension": ".py",
   "mimetype": "text/x-python",
   "name": "python",
   "nbconvert_exporter": "python",
   "pygments_lexer": "ipython3",
   "version": "3.12.0"
  }
 },
 "nbformat": 4,
 "nbformat_minor": 2
}
