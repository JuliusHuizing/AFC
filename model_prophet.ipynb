{
 "cells": [
  {
   "cell_type": "code",
   "execution_count": 1,
   "metadata": {},
   "outputs": [
    {
     "name": "stderr",
     "output_type": "stream",
     "text": [
      "/Users/julius/repos/AFC/.venv/lib/python3.12/site-packages/tqdm/auto.py:21: TqdmWarning: IProgress not found. Please update jupyter and ipywidgets. See https://ipywidgets.readthedocs.io/en/stable/user_install.html\n",
      "  from .autonotebook import tqdm as notebook_tqdm\n",
      "Importing plotly failed. Interactive plots will not work.\n"
     ]
    }
   ],
   "source": [
    "from utils import *\n",
    "from prophet import Prophet\n"
   ]
  },
  {
   "cell_type": "code",
   "execution_count": 2,
   "metadata": {},
   "outputs": [],
   "source": [
    "data = Data()\n",
    "# model = ProphetModel(data.merged_data)"
   ]
  },
  {
   "cell_type": "code",
   "execution_count": 3,
   "metadata": {},
   "outputs": [],
   "source": [
    "# model.generate_forecasts()"
   ]
  },
  {
   "cell_type": "code",
   "execution_count": 4,
   "metadata": {},
   "outputs": [],
   "source": [
    "# model.save_forecasts_to_csv('submission_prophet_model.csv')\n",
    "# model.df_all_forecasts"
   ]
  },
  {
   "cell_type": "code",
   "execution_count": 5,
   "metadata": {},
   "outputs": [],
   "source": [
    "# rmse = model.calculate_rmse(data.sales_test)\n",
    "# print(f'RMSE: {rmse}')"
   ]
  },
  {
   "cell_type": "code",
   "execution_count": 6,
   "metadata": {},
   "outputs": [],
   "source": [
    "#TODO: also factor the below code so this notebooks stays clean."
   ]
  },
  {
   "cell_type": "code",
   "execution_count": 7,
   "metadata": {},
   "outputs": [
    {
     "name": "stderr",
     "output_type": "stream",
     "text": [
      "15:04:52 - cmdstanpy - INFO - Chain [1] start processing\n",
      "15:04:52 - cmdstanpy - INFO - Chain [1] done processing\n"
     ]
    }
   ],
   "source": [
    "# In this cell, we will use a Prophet model on aggregated sales.\n",
    "# We use weekly and yearly seasonality and include our events/holidays.\n",
    "\n",
    "# Prepare the dataframe for Prophet\n",
    "prophet_df = pd.DataFrame({'ds': data.daily_sales.index, 'y': data.daily_sales.values})\n",
    "prophet_df['floor'] = 0\n",
    "\n",
    "# Instantiate Prophet model with yearly and weekly seasonality\n",
    "model = Prophet(yearly_seasonality=True, weekly_seasonality=True, daily_seasonality=False)\n",
    "\n",
    "# Fit the model\n",
    "model.fit(prophet_df)\n",
    "\n",
    "# Create a dataframe for future dates (next 28 days)\n",
    "future = model.make_future_dataframe(periods=28)\n",
    "\n",
    "# Generate forecasts\n",
    "forecast = model.predict(future)\n",
    "\n",
    "# Round to nearest int\n",
    "forecast['yhat'] = forecast['yhat'].round()"
   ]
  },
  {
   "cell_type": "code",
   "execution_count": 8,
   "metadata": {},
   "outputs": [],
   "source": [
    "import pickle as pkl\n",
    "from datetime import datetime\n",
    "# Get the current time in a formatted string\n",
    "current_time = datetime.now().strftime(\"%Y%m%d%H%M%S\")\n",
    "\n",
    "# Create a pickle file with the current time suffix\n",
    "filename = f\"prophet_{current_time}\"\n",
    "# export prohhet forecast to pickle\n",
    "# with open(f'forecast_pickles/{filename}.pkl', 'wb') as f:\n",
    "#     pkl.dump(forecast, f)"
   ]
  },
  {
   "cell_type": "code",
   "execution_count": 9,
   "metadata": {},
   "outputs": [],
   "source": [
    "sales_test_long = pd.melt(data.sales_test, id_vars=['id'],\n",
    "                           var_name='day', value_name='sales')\n",
    "sales_test_long['day'] = pd.to_datetime('2011-01-29') + pd.to_timedelta(sales_test_long['day'].str[2:].astype(int) - 1, unit='D')\n",
    "data.calendar['date'] = pd.to_datetime(data.calendar['date'])\n",
    "\n",
    "merged_test_data = pd.merge(sales_test_long, data.calendar, left_on='day', right_on='date', how='left')\n",
    "\n",
    "daily_sales_test = merged_test_data.groupby('day')['sales'].sum()"
   ]
  },
  {
   "cell_type": "code",
   "execution_count": null,
   "metadata": {},
   "outputs": [],
   "source": []
  },
  {
   "cell_type": "code",
   "execution_count": 10,
   "metadata": {},
   "outputs": [],
   "source": [
    "# "
   ]
  },
  {
   "cell_type": "code",
   "execution_count": null,
   "metadata": {},
   "outputs": [],
   "source": []
  },
  {
   "cell_type": "code",
   "execution_count": null,
   "metadata": {},
   "outputs": [],
   "source": []
  },
  {
   "cell_type": "code",
   "execution_count": null,
   "metadata": {},
   "outputs": [],
   "source": []
  },
  {
   "cell_type": "code",
   "execution_count": null,
   "metadata": {},
   "outputs": [],
   "source": []
  },
  {
   "cell_type": "code",
   "execution_count": null,
   "metadata": {},
   "outputs": [],
   "source": []
  }
 ],
 "metadata": {
  "kernelspec": {
   "display_name": ".venv",
   "language": "python",
   "name": "python3"
  },
  "language_info": {
   "codemirror_mode": {
    "name": "ipython",
    "version": 3
   },
   "file_extension": ".py",
   "mimetype": "text/x-python",
   "name": "python",
   "nbconvert_exporter": "python",
   "pygments_lexer": "ipython3",
   "version": "3.12.0"
  }
 },
 "nbformat": 4,
 "nbformat_minor": 2
}
